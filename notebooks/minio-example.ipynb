{
 "cells": [
  {
   "cell_type": "code",
   "execution_count": 1,
   "metadata": {},
   "outputs": [],
   "source": [
    "import pandas as pd\n",
    "from sklearn.datasets import load_iris\n",
    "from minio import Minio\n",
    "from minio.versioningconfig import VersioningConfig, ENABLED\n"
   ]
  },
  {
   "cell_type": "code",
   "execution_count": 2,
   "metadata": {},
   "outputs": [],
   "source": [
    "# dump data\n",
    "#\n",
    "iris = load_iris(as_frame=True)\n",
    "X, y = iris[\"data\"], iris[\"target\"]\n",
    "data = pd.concat([X, y], axis=\"columns\")\n",
    "data.sample(100).to_csv(\"iris.csv\", index=None)"
   ]
  },
  {
   "cell_type": "code",
   "execution_count": 3,
   "metadata": {},
   "outputs": [],
   "source": [
    "url = \"localhost:9000\"\n",
    "access_key = \"minio\"\n",
    "secret_key = \"miniostorage\"\n",
    "client = Minio(url, access_key=access_key, secret_key=secret_key, secure=False)\n"
   ]
  },
  {
   "cell_type": "code",
   "execution_count": 4,
   "metadata": {},
   "outputs": [
    {
     "data": {
      "text/plain": [
       "<minio.helpers.ObjectWriteResult at 0x7f0d52ce79a0>"
      ]
     },
     "execution_count": 4,
     "metadata": {},
     "output_type": "execute_result"
    }
   ],
   "source": [
    "bucket_name = \"raw-data\"\n",
    "object_name = \"iris\"\n",
    "if not client.bucket_exists(bucket_name):\n",
    "    client.make_bucket(bucket_name)\n",
    "    config = client.set_bucket_versioning(bucket_name, VersioningConfig(ENABLED))\n",
    "\n",
    "# UPload\n",
    "client.fput_object(bucket_name, object_name, \"iris.csv\")"
   ]
  },
  {
   "cell_type": "code",
   "execution_count": 5,
   "metadata": {},
   "outputs": [
    {
     "data": {
      "text/plain": [
       "'d09c4eb6-e2e0-4729-a313-2d4626e62962'"
      ]
     },
     "execution_count": 5,
     "metadata": {},
     "output_type": "execute_result"
    }
   ],
   "source": [
    "# Download data\n",
    "\n",
    "BUCKET_NAME, OBJECT_NAME = \"raw-data\", \"iris\"\n",
    "# Minio 서버로부터 데이터를 다운로드\n",
    "# stat_object 메소드로 객체의 메타데이터를 얻어오고 버전 ID를 획득\n",
    "object_stat = client.stat_object(BUCKET_NAME, OBJECT_NAME)\n",
    "data_version_id = object_stat.version_id\n",
    "data_version_id"
   ]
  },
  {
   "cell_type": "code",
   "execution_count": 6,
   "metadata": {},
   "outputs": [
    {
     "data": {
      "text/plain": [
       "<minio.datatypes.Object at 0x7f0d52ce6530>"
      ]
     },
     "execution_count": 6,
     "metadata": {},
     "output_type": "execute_result"
    }
   ],
   "source": [
    "client.fget_object(BUCKET_NAME, OBJECT_NAME, file_path=\"download_data.csv\")\n"
   ]
  }
 ],
 "metadata": {
  "kernelspec": {
   "display_name": "comparison-env",
   "language": "python",
   "name": "python3"
  },
  "language_info": {
   "codemirror_mode": {
    "name": "ipython",
    "version": 3
   },
   "file_extension": ".py",
   "mimetype": "text/x-python",
   "name": "python",
   "nbconvert_exporter": "python",
   "pygments_lexer": "ipython3",
   "version": "3.10.12"
  }
 },
 "nbformat": 4,
 "nbformat_minor": 2
}
